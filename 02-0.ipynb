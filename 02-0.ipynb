{
 "cells": [
  {
   "cell_type": "code",
   "execution_count": 19,
   "metadata": {},
   "outputs": [
    {
     "name": "stdout",
     "output_type": "stream",
     "text": [
      "['other', 'new', 'good', 'high', 'old', 'great', 'big', 'American', 'small', 'large', 'national', 'young', 'different', 'black', 'long', 'little', 'important', 'political', 'bad', 'white', 'real', 'best', 'right', 'social', 'only', 'public', 'sure', 'low', 'early', 'able', 'human', 'local', 'late', 'hard', 'major', 'better', 'economic', 'strong', 'possible', 'whole', 'free', 'military', 'true', 'federal', 'international', 'full', 'special', 'easy', 'clear', 'recent', 'certain', 'personal', 'open', 'red', 'difficult', 'available', 'likely', 'short', 'single', 'medical', 'current', 'wrong', 'private', 'past', 'foreign', 'fine', 'common', 'poor', 'natural', 'significant', 'similar', 'hot', 'dead', 'central', 'happy', 'serious', 'ready', 'simple', 'left', 'physical', 'general', 'environmental', 'financial', 'blue', 'democratic', 'dark', 'various', 'entire', 'close', 'legal', 'religious', 'cold', 'final', 'main', 'green', 'nice', 'huge', 'popular', 'traditional', 'cultural']\n"
     ]
    }
   ],
   "source": [
    "text = list([\n",
    "\"1.      be2.      have3.      do4.      say5.      go6.      can7.      get8.      would9.      make10.    know11.    will12.    think13.    take14.    see15.    come16.    could17.    want18.    look19.    use20.    find21.    give22.    tell23.    work24.    may25.    should26.    call27.    try28.    ask29.    need30.    feel31.    become32.    leave33.    put34.    mean35.    keep36.    let37.    begin38.    seem39.    help40.    talk41.    turn42.    start43.    might44.    show45.    hear46.    play47.    run48.    move49.    like50.    live51.    believe52.    hold53.    bring54.    happen55.    must56.    write57.    provide58.    sit59.    stand60.    lose61.    pay62.    meet63.    include64.    continue65.    set66.    learn67.    change68.    lead69.    understand70.    watch71.    follow72.    stop73.    create74.    speak75.    read76.    allow77.    add78.    spend79.    grow80.    open81.    walk82.    win83.    offer84.    remember85.    love86.    consider87.    appear88.    buy89.    wait90.    serve91.    die92.    send93.    expect94.    build95.    stay96.    fall97.    cut98.    reach99.    kill100.  remain\",\n",
    "\"1.      time2.      year3.      people4.      way5.      day6.      man7.      thing8.      woman9.      life10.    child11.    world12.    school13.    state14.    family15.    student16.    group17.    country18.    problem19.    hand20.    part21.    place22.    case23.    week24.    company25.    system26.    program27.    question28.    work29.    government30.    number31.    night32.    point33.    home34.    water35.    room36.    mother37.    area38.    money39.    story40.    fact41.    month42.    lot43.    right44.    study45.    book46.    eye47.    job48.    word49.    business50.    issue51.    side52.    kind53.    head54.    house55.    service56.    friend57.    father58.    power59.    hour60.    game61.    line62.    end63.    member64.    law65.    car66.    city67.    community68.    name69.    president70.    team71.    minute72.    idea73.    kid74.    body75.    information76.    back77.    parent78.    face79.    others80.    level81.    office82.    door83.    health84.    person85.    art86.    war87.    history88.    party89.    result90.    change91.    morning92.    reason93.    research94.    girl95.    guy96.    moment97.    air98.    teacher99.    force100.  education\",\n",
    "\"1.      other2.      new3.      good4.      high5.      old6.      great7.      big8.      American9.      small10.    large11.    national12.    young13.    different14.    black15.    long16.    little17.    important18.    political19.    bad20.    white21.    real22.    best23.    right24.    social25.    only26.    public27.    sure28.    low29.    early30.    able31.    human32.    local33.    late34.    hard35.    major36.    better37.    economic38.    strong39.    possible40.    whole41.    free42.    military43.    true44.    federal45.    international46.    full47.    special48.    easy49.    clear50.    recent51.    certain52.    personal53.    open54.    red55.    difficult56.    available57.    likely58.    short59.    single60.    medical61.    current62.    wrong63.    private64.    past65.    foreign66.    fine67.    common68.    poor69.    natural70.    significant71.    similar72.    hot73.    dead74.    central75.    happy76.    serious77.    ready78.    simple79.    left80.    physical81.    general82.    environmental83.    financial84.    blue85.    democratic86.    dark87.    various88.    entire89.    close90.    legal91.    religious92.    cold93.    final94.    main95.    green96.    nice97.    huge98.    popular99.    traditional100.  cultural\"\n",
    "])\n",
    "types = list()\n",
    "chars = \" 1234567890\"\n",
    "for t in text:\n",
    "    for c in chars:\n",
    "        t = t.replace(c, \"\")\n",
    "    arr = t.split(\".\")\n",
    "    arr.remove('')\n",
    "    types.append(arr)\n",
    "verbs = types[0]\n",
    "nouns = types[1]\n",
    "adjectives = types[2]\n",
    "atr = list([\"A\", \"The\"])\n",
    "\n",
    "print(adjectives)"
   ]
  },
  {
   "cell_type": "code",
   "execution_count": 17,
   "metadata": {},
   "outputs": [
    {
     "name": "stdout",
     "output_type": "stream",
     "text": [
      "The blue mother continue.\n"
     ]
    }
   ],
   "source": [
    "\n",
    "import random\n",
    "r1 = random.randint(0,len(adjectives) - 1)\n",
    "r2 = random.randint(0,len(nouns) - 1)\n",
    "r3 = random.randint(0,len(verbs) - 1)\n",
    "r4 = random.randint(0,len(atr) - 1)\n",
    "\n",
    "print(atr[r4] + \" \" + adjectives[r1] + \" \" + nouns[r2] + \" \" + verbs[r3]+\".\")\n",
    "\n"
   ]
  },
  {
   "cell_type": "code",
   "execution_count": 41,
   "metadata": {},
   "outputs": [
    {
     "name": "stdout",
     "output_type": "stream",
     "text": [
      "20000\n"
     ]
    }
   ],
   "source": [
    "lists = {\"atr\": atr, \"adjective\": adjectives, \"noun\": nouns, \"verb\": verbs}\n",
    "\n",
    "t = \"adjective\"\n",
    "word = \"new\"\n",
    "\n",
    "lists.update({t: [word]})\n",
    "types = [n for n in lists]\n",
    "\n",
    "s = [x+ \" \" + q + \" \" +y+ \" \" +z for x in lists.get(\"atr\") for q in lists.get(\"adjective\") for y in lists.get(\"noun\") for z in lists.get(\"verb\")]\n",
    "\n",
    "print(len(s))\n"
   ]
  },
  {
   "cell_type": "markdown",
   "metadata": {},
   "source": [
    "# 02-0b"
   ]
  },
  {
   "cell_type": "code",
   "execution_count": 47,
   "metadata": {},
   "outputs": [
    {
     "name": "stdout",
     "output_type": "stream",
     "text": [
      "Jonna\n",
      "Jack\n",
      "Janni\n",
      "Jesper\n"
     ]
    }
   ],
   "source": [
    "#A\n",
    "l = [1,2,3,4,5,6,7,8,9]\n",
    "names = [\"Jonna\",\"Jack\",\"Janni\",\"Jesper\"]\n",
    "\n",
    "def print_list (li):\n",
    "    if len(li) > 0 and type(li) is list:\n",
    "        print(li[0])\n",
    "        li.remove(li[0])\n",
    "        print_list(li)\n",
    "    \n",
    "print_list(names)\n",
    "    \n",
    "    "
   ]
  },
  {
   "cell_type": "code",
   "execution_count": 27,
   "metadata": {},
   "outputs": [
    {
     "name": "stdout",
     "output_type": "stream",
     "text": [
      "55\n",
      "sda2151\n"
     ]
    }
   ],
   "source": [
    "#B\n",
    "def summed(*vals):\n",
    "    res = None\n",
    "    for i in vals:\n",
    "        if res == None: res = i\n",
    "        else: res += i\n",
    "    print(res)\n",
    "\n",
    "summed(1,2,1,51)\n",
    "summed(\"sda\",\"2\",\"1\",\"51\")"
   ]
  },
  {
   "cell_type": "markdown",
   "metadata": {},
   "source": [
    "# 02-0C"
   ]
  },
  {
   "cell_type": "code",
   "execution_count": null,
   "metadata": {},
   "outputs": [],
   "source": [
    "import os\n",
    "import webget\n",
    "\n",
    "URL = 'http://data.kk.dk/dataset/76ecf368-bf2d-46a2-bcf8-adaf37662528/resource/9286af17-f74e-46c9-a428-9fb707542189/download/befkbhalderstatkode.csv'\n",
    "TO = \"./random_stuff/test.csv\"\n",
    "\n",
    "def download(url, to=None):\n",
    "    webget.download(url, to=)\n",
    "\n",
    "download(URL, TO)"
   ]
  }
 ],
 "metadata": {
  "kernelspec": {
   "display_name": "Python 3",
   "language": "python",
   "name": "python3"
  },
  "language_info": {
   "codemirror_mode": {
    "name": "ipython",
    "version": 3
   },
   "file_extension": ".py",
   "mimetype": "text/x-python",
   "name": "python",
   "nbconvert_exporter": "python",
   "pygments_lexer": "ipython3",
   "version": "3.7.6"
  }
 },
 "nbformat": 4,
 "nbformat_minor": 4
}
